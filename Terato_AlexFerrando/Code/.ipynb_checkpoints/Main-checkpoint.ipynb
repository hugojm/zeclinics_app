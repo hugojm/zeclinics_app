{
 "cells": [
  {
   "cell_type": "markdown",
   "metadata": {
    "id": "lhfIVf556C_w"
   },
   "source": [
    "# Training\n",
    "\n",
    "\n",
    "This notebook contains the information to run the training of the models for both mask and boolean features predictions. Both are based on DeepLab architectures with little modifications to adapt the neural networks to our specific needs."
   ]
  },
  {
   "cell_type": "markdown",
   "metadata": {
    "id": "eOX40BYDxA7J"
   },
   "source": []
  },
  {
   "cell_type": "markdown",
   "metadata": {
    "id": "FJmg38Dy6C_1"
   },
   "source": [
    "## Semantic segmentation model"
   ]
  },
  {
   "cell_type": "code",
   "execution_count": 2,
   "metadata": {
    "colab": {
     "base_uri": "https://localhost:8080/",
     "height": 452
    },
    "executionInfo": {
     "elapsed": 246,
     "status": "error",
     "timestamp": 1624285221379,
     "user": {
      "displayName": "Andrea Garcia Valdés",
      "photoUrl": "",
      "userId": "11425704364991342656"
     },
     "user_tz": -120
    },
    "id": "-iHeTjnQ6C_2",
    "outputId": "738abaf3-dc8a-4ed7-995d-07ec187aa843"
   },
   "outputs": [
    {
     "ename": "ModuleNotFoundError",
     "evalue": "No module named 'pandas'",
     "output_type": "error",
     "traceback": [
      "\u001b[0;31m---------------------------------------------------------------------------\u001b[0m",
      "\u001b[0;31mModuleNotFoundError\u001b[0m                       Traceback (most recent call last)",
      "\u001b[0;32m<ipython-input-2-988ee88514b6>\u001b[0m in \u001b[0;36m<module>\u001b[0;34m\u001b[0m\n\u001b[1;32m     19\u001b[0m \u001b[0;32mimport\u001b[0m \u001b[0mclick\u001b[0m\u001b[0;34m\u001b[0m\u001b[0;34m\u001b[0m\u001b[0m\n\u001b[1;32m     20\u001b[0m \u001b[0;32mimport\u001b[0m \u001b[0mpickle\u001b[0m\u001b[0;34m\u001b[0m\u001b[0;34m\u001b[0m\u001b[0m\n\u001b[0;32m---> 21\u001b[0;31m \u001b[0;32mimport\u001b[0m \u001b[0mdatahandler\u001b[0m\u001b[0;34m\u001b[0m\u001b[0;34m\u001b[0m\u001b[0m\n\u001b[0m\u001b[1;32m     22\u001b[0m \u001b[0;32mimport\u001b[0m \u001b[0mnumpy\u001b[0m \u001b[0;32mas\u001b[0m \u001b[0mnp\u001b[0m\u001b[0;34m\u001b[0m\u001b[0;34m\u001b[0m\u001b[0m\n\u001b[1;32m     23\u001b[0m \u001b[0;32mimport\u001b[0m \u001b[0mpandas\u001b[0m \u001b[0;32mas\u001b[0m \u001b[0mpd\u001b[0m\u001b[0;34m\u001b[0m\u001b[0;34m\u001b[0m\u001b[0m\n",
      "\u001b[0;32m/Volumes/GoogleDrive/.shortcut-targets-by-id/1NqdMCXi0LqxG1H6L312k0bdmASg6srPV/Terato2/Code/datahandler.py\u001b[0m in \u001b[0;36m<module>\u001b[0;34m\u001b[0m\n\u001b[1;32m      5\u001b[0m \u001b[0;32mfrom\u001b[0m \u001b[0mtorchvision\u001b[0m \u001b[0;32mimport\u001b[0m \u001b[0mtransforms\u001b[0m\u001b[0;34m\u001b[0m\u001b[0;34m\u001b[0m\u001b[0m\n\u001b[1;32m      6\u001b[0m \u001b[0;34m\u001b[0m\u001b[0m\n\u001b[0;32m----> 7\u001b[0;31m \u001b[0;32mfrom\u001b[0m \u001b[0msegdataset\u001b[0m \u001b[0;32mimport\u001b[0m \u001b[0mSegmentationDataset\u001b[0m\u001b[0;34m,\u001b[0m \u001b[0mClassificationDataset\u001b[0m\u001b[0;34m\u001b[0m\u001b[0;34m\u001b[0m\u001b[0m\n\u001b[0m\u001b[1;32m      8\u001b[0m \u001b[0;34m\u001b[0m\u001b[0m\n\u001b[1;32m      9\u001b[0m def get_dataloader_single_folder(data_dir: str,\n",
      "\u001b[0;32m/Volumes/GoogleDrive/.shortcut-targets-by-id/1NqdMCXi0LqxG1H6L312k0bdmASg6srPV/Terato2/Code/segdataset.py\u001b[0m in \u001b[0;36m<module>\u001b[0;34m\u001b[0m\n\u001b[1;32m      6\u001b[0m \u001b[0;32mimport\u001b[0m \u001b[0mxml\u001b[0m\u001b[0;34m.\u001b[0m\u001b[0metree\u001b[0m\u001b[0;34m.\u001b[0m\u001b[0mElementTree\u001b[0m \u001b[0;32mas\u001b[0m \u001b[0mET\u001b[0m\u001b[0;34m\u001b[0m\u001b[0;34m\u001b[0m\u001b[0m\n\u001b[1;32m      7\u001b[0m \u001b[0;32mfrom\u001b[0m \u001b[0mtorchvision\u001b[0m\u001b[0;34m.\u001b[0m\u001b[0mdatasets\u001b[0m\u001b[0;34m.\u001b[0m\u001b[0mvision\u001b[0m \u001b[0;32mimport\u001b[0m \u001b[0mVisionDataset\u001b[0m\u001b[0;34m\u001b[0m\u001b[0;34m\u001b[0m\u001b[0m\n\u001b[0;32m----> 8\u001b[0;31m \u001b[0;32mfrom\u001b[0m \u001b[0mETL_lib\u001b[0m \u001b[0;32mimport\u001b[0m \u001b[0mparse_image_name\u001b[0m\u001b[0;34m\u001b[0m\u001b[0;34m\u001b[0m\u001b[0m\n\u001b[0m\u001b[1;32m      9\u001b[0m \u001b[0;32mimport\u001b[0m \u001b[0mos\u001b[0m\u001b[0;34m\u001b[0m\u001b[0;34m\u001b[0m\u001b[0m\n\u001b[1;32m     10\u001b[0m \u001b[0;32mimport\u001b[0m \u001b[0mpickle\u001b[0m\u001b[0;34m\u001b[0m\u001b[0;34m\u001b[0m\u001b[0m\n",
      "\u001b[0;32m/Volumes/GoogleDrive/.shortcut-targets-by-id/1NqdMCXi0LqxG1H6L312k0bdmASg6srPV/Terato2/Code/ETL_lib.py\u001b[0m in \u001b[0;36m<module>\u001b[0;34m\u001b[0m\n\u001b[1;32m      8\u001b[0m \u001b[0;32mimport\u001b[0m \u001b[0mpickle\u001b[0m\u001b[0;34m\u001b[0m\u001b[0;34m\u001b[0m\u001b[0m\n\u001b[1;32m      9\u001b[0m \u001b[0;32mimport\u001b[0m \u001b[0mnumpy\u001b[0m \u001b[0;32mas\u001b[0m \u001b[0mnp\u001b[0m\u001b[0;34m\u001b[0m\u001b[0;34m\u001b[0m\u001b[0m\n\u001b[0;32m---> 10\u001b[0;31m \u001b[0;32mimport\u001b[0m \u001b[0mpandas\u001b[0m \u001b[0;32mas\u001b[0m \u001b[0mpd\u001b[0m\u001b[0;34m\u001b[0m\u001b[0;34m\u001b[0m\u001b[0m\n\u001b[0m\u001b[1;32m     11\u001b[0m \u001b[0;32mimport\u001b[0m \u001b[0mmatplotlib\u001b[0m\u001b[0;34m.\u001b[0m\u001b[0mpyplot\u001b[0m \u001b[0;32mas\u001b[0m \u001b[0mplt\u001b[0m\u001b[0;34m\u001b[0m\u001b[0;34m\u001b[0m\u001b[0m\n\u001b[1;32m     12\u001b[0m \u001b[0;32mimport\u001b[0m \u001b[0mxml\u001b[0m\u001b[0;34m.\u001b[0m\u001b[0metree\u001b[0m\u001b[0;34m.\u001b[0m\u001b[0mElementTree\u001b[0m \u001b[0;32mas\u001b[0m \u001b[0mET\u001b[0m\u001b[0;34m\u001b[0m\u001b[0;34m\u001b[0m\u001b[0m\n",
      "\u001b[0;31mModuleNotFoundError\u001b[0m: No module named 'pandas'"
     ]
    }
   ],
   "source": [
    "# Necessary imports for the execution of the code.\n",
    "# Make sure you have previously executed requirements.txt\n",
    "\n",
    "'''\n",
    "# WARNING:\n",
    "\n",
    "Check https://pytorch.org/get-started/previous-versions/ and install the proper\n",
    "pytorch and torchvision versions according to your cuda version.\n",
    "\n",
    "You can figure out your cuda versions with:\n",
    "/usr/local/cuda/bin/nvcc --version\n",
    "\n",
    "'''\n",
    "\n",
    "import os\n",
    "import sys\n",
    "import cv2\n",
    "import torch\n",
    "import click\n",
    "import pickle\n",
    "import datahandler\n",
    "import numpy as np\n",
    "import pandas as pd\n",
    "import sklearn.metrics\n",
    "import ETL_lib as Tox\n",
    "import matplotlib.pyplot as plt\n",
    "\n",
    "from pathlib import Path\n",
    "from torch.utils import data\n",
    "from trainer import train_model, train_clasif_model\n",
    "from model import createDeepLabv3_resnet_50, binary_fenotypes_wideresnet50\n",
    "from graphics import plots, Mca, doseresponse"
   ]
  },
  {
   "cell_type": "markdown",
   "metadata": {
    "id": "_1m6Wd_w6C_4"
   },
   "source": [
    "**Step 1 (Creation of masks):** We must first create the masks from the roi files in the folders. This will serve as targets in the training process.\n",
    "\n",
    "*Input:* Two folders paths and one list are expected:\n",
    "1. *raw_data_path*: Folder where all the data is. This data must contain several plate folders to train. It is a list as you can pass several roots (Ex: ['BAT1'. 'BAT2'])\n",
    "\n",
    "2. *masks_path*: Destination folder where the masks will be saved for the training process. When the model has been trained, this folder will be automatically removed.\n",
    "\n",
    "3. *masks_names*: It expects a dictionary of key=str and value=list. Each interior list must contain a set of roi files to create a unified mask that will be segmented afterwards The key name of this list will represent the identifier name of the mask. This means if you want to segment the fish outline dorsal joining that roi file with the rois from the eyes just add the following key -> value: 'outline_dorsal' -> ['fishoutline_dorsal', 'eye_up_dorsal', 'eye_down_dorsal']. Atention!: It is mandatory for the masks names to end with \\_lat or \\_dor to indicate whether the mask will belong to lateral or dorsal image."
   ]
  },
  {
   "cell_type": "code",
   "execution_count": null,
   "metadata": {
    "id": "MaOfqoP66C_6",
    "outputId": "cb2bda5c-9be7-419c-daee-04bca789843b"
   },
   "outputs": [
    {
     "name": "stderr",
     "output_type": "stream",
     "text": [
      "\r",
      "  0%|          | 0/1 [00:00<?, ?it/s]"
     ]
    },
    {
     "name": "stdout",
     "output_type": "stream",
     "text": [
      "Generating masks folders...\n",
      "Generating: raw_data's Data\n"
     ]
    },
    {
     "name": "stderr",
     "output_type": "stream",
     "text": [
      "100%|██████████| 1/1 [00:02<00:00,  2.65s/it]\n"
     ]
    },
    {
     "name": "stdout",
     "output_type": "stream",
     "text": [
      "Finished!\n",
      "Warning! gpu is not available and the model will be trained in cpu. This could be extremely slow.\n"
     ]
    }
   ],
   "source": [
    "############ INPUT ############\n",
    "\n",
    "raw_data_path = ['../raw_data']\n",
    "data_path = '../processed_data'\n",
    "masks_names = {'outline_lat': ['fishoutline_lateral'],\n",
    "               'heart_lat': ['heart_lateral'],\n",
    "               'yolk_lat': ['yolk_lateral'],\n",
    "               'ov_lat': ['ov_lateral'],\n",
    "               'eyes_dor': ['eye_up_dorsal', 'eye_down_dorsal'],\n",
    "               'outline_dor': ['fishoutline_dorsal', 'eye_up_dorsal', 'eye_down_dorsal']}\n",
    "\n",
    "\n",
    "############ CODE ############\n",
    "\n",
    "# Let's check whether raw data path exist or not\n",
    "if all([os.path.exists(p) for p in raw_data_path]):\n",
    "    print('Generating masks folders...')\n",
    "    Tox.data_generation_pipeline(raw_data_path, data_path, masks_names)\n",
    "    print('Finished!')\n",
    "else:\n",
    "    print(raw_data_path, \"does not exist.\")\n",
    "\n",
    "with open(data_path + '/complete_fishes.pkl', 'rb') as pickle_file:\n",
    "    complete_list = pickle.load(pickle_file)\n",
    "    \n",
    "\n",
    "device = torch.device('cpu')\n",
    "if torch.cuda.is_available():\n",
    "    device = torch.device('cuda:0')\n",
    "    print('Training will be using gpu')\n",
    "else:\n",
    "    print('Warning! gpu is not available and the model will be trained in cpu. This could be extremely slow.')"
   ]
  },
  {
   "cell_type": "markdown",
   "metadata": {
    "id": "6c1txGR76C_-"
   },
   "source": [
    "**Step 2 (DeepLab Training):** Once we have target data formatted to train our model (i.e extracted masks from rois) we can run DeepLab training. This process may take quite a long time depending on the used parameters (such as epochs or batch size).\n",
    "\n",
    "In order to take advantatge of the data of every single well (even of those which don't have all the rois) a two step training is carried out. The first step of training will be meant to be trained exclusively with the wells that have all the rois. Contrary, in the second training step, we will also use those uncomplete wells using as a target the predictions made by the model itself. This paradigm is a modification based on *Learning without forgetting* by Zhizhong Li and Derek Hoiem. In order to do that, the previous called function *generation_pipeline* generated a *pkl* file including all complete wells. This will be passed to datahandler to say: just charge this data for training. In the second phase no list will be passed so the dataloader will charge all wells instead. Note that this phase doesn't ensure an improvement in our model so just a pair of epochs are run. If the model worsens, the best model from the first phase is kept. \n",
    "\n",
    "Next we will define input parameters:\n",
    "1. *images_folder*: Folder where images are (path from data_path).\n",
    "2. *masks_folders*: Folders where masks are (path form data_path).\n",
    "3. *model_directory*: Directory where the model is going to be saved.\n",
    "4. *masks_weights*: Weights to applied to each mask. Note that weights lists must be the same length that masks_folders and weights ara applied in the same order. By default those weights have been chosen to accomplish some area criterions. For each mask the weights have been put to be mean(area)/mean(max_area). So the greater mask will have weight one.\n",
    "5. *criterion*: Loss function to be used in the model.\n",
    "6. *optimizer*: Optimizer for the model.\n",
    "7. *metrics*: Metrics to be used in the evaluation of the model.\n",
    "8. *seed*: Seed for the model.\n",
    "9. *fraction*: Fraction of the data to be used in test.\n",
    "10. *batch_size*: Batch size\n",
    "11. *num_epochs*: Number of epochs for the first phase.\n",
    "12. *num_epochs2*: Number of epochs for the second phase."
   ]
  },
  {
   "cell_type": "code",
   "execution_count": null,
   "metadata": {
    "id": "yh_uUFpa6C__"
   },
   "outputs": [],
   "source": [
    "'''\n",
    "# NOTES:\n",
    "\n",
    "-Batch size needs to be larger than one due to the batch normalization.\n",
    "\n",
    "-The chosen loss funcion (nn.BCEWithLogitsLoss()) applies a sigmoid to the\n",
    "output ans then applies the binary cross entropy loss function (a pixel belongs\n",
    "to a class or doesn't)\n",
    "\n",
    "This first part of the code is responsible to define where data is found and\n",
    "where the model is going to be saved. In order to do that a main data directory\n",
    "must be declared. Inside the this directory an image folder must exists with\n",
    "all the raw images and the folders with the different masks containg the masks\n",
    "with the exact same name of their corresponding original image:\n",
    "\n",
    "                     ___________data_path _____________\n",
    "                    /               |                  \\\n",
    "                Images       Mask1_folder  ...  Maskn_folder\n",
    "                  |                 |                  |\n",
    "              img1.png          img1.png           img1.png\n",
    "                  .                 .                  .\n",
    "                  .                 .                  .\n",
    "                  .                 .                  .\n",
    "              imgk.png          imgk.png           imgk.png\n",
    "\n",
    "\n",
    "If the step 1 cell has been executed, this configuration is ensured.\n",
    "'''\n",
    "\n",
    "############ INPUT ############\n",
    "\n",
    "# Define images path and masks paths from data_path\n",
    "images_folder = 'Images'\n",
    "masks_folders = list(masks_names.keys())\n",
    "\n",
    "# Path from current path to save the generated model\n",
    "model_directory = Path('./Model_masks')\n",
    "if not model_directory.exists():\n",
    "    model_directory.mkdir()\n",
    "    \n",
    "\n",
    "# Model parameters\n",
    "\n",
    "# Creation of the model\n",
    "model = createDeepLabv3_resnet_50(outputchannels=len(masks_folders))\n",
    "\n",
    "masks_weights = torch.tensor([[[0.5, 2, 2, 2, 1, 0.5]]])\n",
    "### Transformation of masks_weights to correct format:\n",
    "masks_weights = masks_weights.repeat_interleave(190, dim=1)\n",
    "masks_weights = masks_weights.repeat_interleave(1024, dim=0).transpose(0,2)\n",
    "if torch.cuda.is_available():\n",
    "    masks_weights = masks_weights.to(torch.device('cuda:0'))\n",
    "\n",
    "\n",
    "criterion = torch.nn.BCEWithLogitsLoss(reduction='mean',\n",
    "                                       pos_weight = masks_weights) # Specify the loss function\n",
    "\n",
    "optimizer = torch.optim.Adam(model.parameters(), lr=1e-4)  # Specify the optimizer\n",
    "                                                           # with a low learning rate\n",
    "\n",
    "# Specify the evaluation metrics\n",
    "metrics = {'f1_score': sklearn.metrics.f1_score}\n",
    "           #'auroc': sklearn.metrics.roc_auc_score}\n",
    "           #'accuracy_score': sklearn.metrics.accuracy_score}\n",
    "\n",
    "seed = 1\n",
    "fraction = 0.2\n",
    "batch_size = 8\n",
    "num_epochs = 10\n",
    "num_epochs2 = 3\n",
    "\n",
    "\n",
    "        \n",
    "############ CODE ############\n",
    "\n",
    "# CREATE WEIGHTS TENSOR STRUCTURE FOR TRAINING\n",
    "\n",
    "\n",
    "\n",
    "\n",
    "# FIRST TRAINING PHASE\n",
    "\n",
    "# Ceation of the data loaders ['Train', 'Test']\n",
    "dataloaders, image_datasets = datahandler.get_dataloader_single_folder(data_path,\n",
    "                                                       images_folder,\n",
    "                                                       masks_folders,\n",
    "                                                       batch_size = batch_size,\n",
    "                                                       seed = seed,\n",
    "                                                       fraction = fraction,\n",
    "                                                       images_list = complete_list)\n",
    "\n",
    "\n",
    "# Train the model\n",
    "best_loss = train_model(model,\n",
    "                criterion,\n",
    "                dataloaders,\n",
    "                optimizer,\n",
    "                bpath = model_directory,\n",
    "                masks_names = masks_folders,\n",
    "                metrics = metrics,\n",
    "                num_epochs = num_epochs,\n",
    "                device = device)\n",
    "\n",
    "\n",
    "\n",
    "# SECOND TRAINING PHASE\n",
    "\n",
    "dataloaders2, _ = datahandler.get_dataloader_single_folder(data_path,\n",
    "                                                       images_folder,\n",
    "                                                       masks_folders,\n",
    "                                                       batch_size = batch_size,\n",
    "                                                       fraction = fraction,\n",
    "                                                       test_list = getattr(image_datasets['Test'],'image_names'))\n",
    "\n",
    "# Train the model\n",
    "_ = train_model(model,\n",
    "                criterion,\n",
    "                dataloaders,\n",
    "                optimizer,\n",
    "                bpath = model_directory,\n",
    "                masks_names = masks_folders,\n",
    "                metrics = metrics,\n",
    "                num_epochs = 2,\n",
    "                device = device,\n",
    "                best_loss = best_loss)\n",
    "\n",
    "torch.save(model, model_directory / 'weights.pt')\n",
    "\n",
    "# Alternatively you can upload an already trained model:\n",
    "# torch.load(model_directory + 'weights.pt')"
   ]
  },
  {
   "cell_type": "markdown",
   "metadata": {
    "id": "dvvjzaw46DAA"
   },
   "source": [
    "## Boolean Phenotypes model"
   ]
  },
  {
   "cell_type": "markdown",
   "metadata": {
    "id": "nQf6pvAA6DAB"
   },
   "source": [
    "**Step 1 (DeepLab Training):** Let's train the model for the boolean phenotypes. As in the semantic segmentation model, this one is also based on DeepLab architecture but adding a fully connected network in the output of the convolutional neural network.\n",
    "\n",
    "We must take into account that given the nature of the available data to train our models, it has been impossible to train an accurate network for the *otholitsdefects* variable. Consequently, we have removed this phenotype as it was adding some bias to the overall model worsening the behavior of the predictions of the other variables.\n",
    "\n",
    "The input parameters to execute the training are:\n",
    "\n",
    "1. *images_folder*: Folder where images are (path from data_path).\n",
    "2. *pheno_names*: A list with the name of the phenotypes to predict.\n",
    "3. *model_directory*: Directory where the model is going to be saved.\n",
    "4. *class_weights*: Weight given to each class.\n",
    "5. *positive_weights*: Penalization for false negative for each class.\n",
    "6. *criterion*: Loss function to be used in the model.\n",
    "7. *optimizer*: Optimizer for the model.\n",
    "8. *metrics*: Metrics to be used in the evaluation of the model.\n",
    "9. *seed*: Seed for the model.\n",
    "10. *fraction*: Fraction of the data to be used in test.\n",
    "11. *batch_size*: Batch size\n",
    "12. *acum_steps*: Accumulable steps to apply backpropagation.\n",
    "13. *num_epochs*: Number of epochs for the first phase."
   ]
  },
  {
   "cell_type": "code",
   "execution_count": null,
   "metadata": {
    "id": "dmFH1xeM6DAC"
   },
   "outputs": [],
   "source": [
    "############ INPUT ############\n",
    "\n",
    "images_folder = 'Images'\n",
    "\n",
    "pheno_names = ['bodycurvature',\n",
    "               'yolkedema',\n",
    "               'necrosis',\n",
    "               'tailbending',\n",
    "               'notochorddefects',\n",
    "               'craniofacialedema',\n",
    "               'finabsence',\n",
    "               'scoliosis',\n",
    "               'snoutjawdefects']\n",
    "\n",
    "# Path from current path to save the generated model\n",
    "model_directory = Path('./Model_pheno')\n",
    "if not model_directory.exists():\n",
    "    model_directory.mkdir()\n",
    "    \n",
    "\n",
    "# Model Parameters\n",
    "\n",
    "# Creation of the model\n",
    "model = binary_fenotypes_wideresnet50(len(pheno_names))\n",
    "    \n",
    "class_weights = [1/len(pheno_names) for i in pheno_names]\n",
    "\n",
    "positive_weights = torch.tensor([1, 1, 1, 1, 10, 1, 10, 1, 1])\n",
    "\n",
    "criterion = torch.nn.BCEWithLogitsLoss(reduction='none', pos_weight = positive_weights) # Specify the loss function\n",
    "\n",
    "optimizer = torch.optim.Adam(model.parameters(), lr = 5e-5, \n",
    "                                                 weight_decay = 1e-5) # Specify the optimizer\n",
    "                                                                      # with a low learning rate\n",
    "\n",
    "metrics = {'f1_score': sklearn.metrics.f1_score,\n",
    "           'precision': sklearn.metrics.precision_score,\n",
    "           'recall': sklearn.metrics.recall_score}\n",
    "\n",
    "seed = 1\n",
    "fraction = 0.2\n",
    "batch_size = 4\n",
    "acum_steps = 64\n",
    "num_epochs = 50\n",
    "\n",
    "\n",
    "        \n",
    "############ CODE ############\n",
    "\n",
    "'''\n",
    "Given a list of image names, filters it by only keeping the fish_names with\n",
    "all the boolean phenotypes in feno_names\n",
    "'''\n",
    "stats_path = data_path + '/stats.csv'\n",
    "complete_bools = Tox.filter_by_bool(complete_list, pheno_names, stats_path)\n",
    "\n",
    "# Ceation of the data loaders ['Train', 'Test']\n",
    "dataloaders, image_datasets = datahandler.get_dataloader_single_folder_bool(data_dir = data_path,\n",
    "                                                       image_folder = images_folder,\n",
    "                                                       feno_names = pheno_names,\n",
    "                                                       model_folder = model_directory,\n",
    "                                                       image_list = complete_bools,\n",
    "                                                       batch_size = batch_size,\n",
    "                                                       seed = seed,\n",
    "                                                       fraction = fraction)\n",
    "\n",
    "\n",
    "\n",
    "# TRAINING PHASE\n",
    "\n",
    "_ = train_clasif_model(model,\n",
    "                     pheno_names,\n",
    "                     criterion,\n",
    "                     dataloaders,\n",
    "                     optimizer,\n",
    "                     bpath = model_directory,\n",
    "                     metrics = metrics,\n",
    "                     num_epochs = num_epochs,\n",
    "                     bs = batch_size,\n",
    "                     batch_acum = acum_steps,\n",
    "                     class_weights = class_weights)\n",
    "\n",
    "\n",
    "torch.save(model, model_directory / 'weights.pt')\n",
    "\n",
    "# Alternatively you can upload an already trained model:\n",
    "# torch.load(model_directory + 'weights.pt')"
   ]
  },
  {
   "cell_type": "markdown",
   "metadata": {
    "id": "IWHU9HoY6DAD"
   },
   "source": [
    "# Model usage\n",
    "\n",
    "Once we have trained the models, we can proceed by doing predictions over new plates."
   ]
  },
  {
   "cell_type": "markdown",
   "metadata": {
    "id": "WKTVQfmK6DAE"
   },
   "source": [
    "**Step 2 (Plate Predictions)**: Once we have our mask extraction and our boolean phenotypes models trained, we can now use them to predict over a plate. \n",
    "\n",
    "The following chunk of code will define the plate we want to analyze and will call the main function generate_and_save_predictions from the Tox library. This function saves the roi of each mask inside each corresponding Well folder and generats an overall stats.csv file for the entire plate, which has the predictions on the boolean phenotypes for each Well, among other data\n",
    "\n",
    "The input parameters to execute the predictions are:\n",
    "\n",
    "1. *plate_path*: Path to the plate to predict.\n",
    "2. *batch_size*: Size of the number of images to pass through the nets at the same time. 4 should be a good one.\n",
    "3. *model_path_seg*: Path to the semantic segmentation model  (Ends with .pt). \n",
    "4. *model_path_bools*: Path to the boolean phenotypes model  (Ends with .pt). \n",
    "5. *pheno_names*: Name of the different predicted phenotypes.\n",
    "6. *path_dataframe*: Path to the csv dataframe where data about each well such as the boolean phenotypes is going to be.\n",
    "7. *masks_names*: It expects a dictionary of key=str and value=list. Each interior list must contain a set of roi files to create a unified mask that will be segmented afterwards The key name of this list will represent the identifier name of the mask. This means if you want to segment the fish outline dorsal joining that roi file with the rois from the eyes just add the following key -> value: 'outline_dorsal' -> ['fishoutline_dorsal', 'eye_up_dorsal', 'eye_down_dorsal']. Atention!: It is mandatory for the masks names to end with \\_lat or \\_dor to indicate whether the mask will belong to lateral or dorsal image."
   ]
  },
  {
   "cell_type": "code",
   "execution_count": null,
   "metadata": {
    "id": "hNfaE7ij6DAE",
    "outputId": "c8800507-e4f8-4912-ee44-8338dabf60ae"
   },
   "outputs": [
    {
     "name": "stderr",
     "output_type": "stream",
     "text": [
      " 16%|█▌        | 15/96 [03:34<18:32, 13.74s/it]"
     ]
    },
    {
     "name": "stdout",
     "output_type": "stream",
     "text": [
      "error in mask: heart_lat\n",
      "error in mask: eyes_dor\n",
      "error in mask: eyes_dor\n"
     ]
    },
    {
     "name": "stderr",
     "output_type": "stream",
     "text": [
      "100%|██████████| 96/96 [23:01<00:00, 14.39s/it]\n"
     ]
    },
    {
     "name": "stdout",
     "output_type": "stream",
     "text": [
      "Time predict masks 413.839396238327\n",
      "Time area 0.09984350204467773\n",
      "Time length 0.17803955078125\n",
      "Time genererate rois 42.62159442901611\n",
      "Time predict bools 921.8507578372955\n"
     ]
    }
   ],
   "source": [
    "############ INPUT ############\n",
    "\n",
    "plate_path = '../raw_data/20190918_1975_CS_R3'\n",
    "batch_size = 4\n",
    "model_path_seg = './Model_masks/weights.pt'\n",
    "model_path_bools = './Model_pheno/weights.pt'\n",
    "pheno_names = ['bodycurvature',\n",
    "              'yolkedema',\n",
    "              'necrosis',\n",
    "              'tailbending',\n",
    "              'notochorddefects',\n",
    "              'craniofacialedema',\n",
    "              'scoliosis',\n",
    "              'snoutjawdefects']\n",
    "\n",
    "path_dataframe = plate_path + '/stats.csv'\n",
    "\n",
    "masks_names = {'outline_lat': ['fishoutline_lateral'],\n",
    "               'heart_lat': ['heart_lateral'],\n",
    "               'yolk_lat': ['yolk_lateral'],\n",
    "               'ov_lat': ['ov_lateral'],\n",
    "               'eyes_dor': ['eye_up_dorsal', 'eye_down_dorsal'],\n",
    "               'outline_dor': ['fishoutline_dorsal', 'eye_up_dorsal', 'eye_down_dorsal']}\n",
    "\n",
    "\n",
    "\n",
    "############ CODE ############\n",
    "\n",
    "device = torch.device('cpu')\n",
    "if torch.cuda.is_available():\n",
    "    device = torch.device('cuda:0')\n",
    "    print('Predictions will be using gpu')\n",
    "else:\n",
    "    print('Warning! gpu is not available and the model will be predicting in cpu. This could be extremely slow.')\n",
    "\n",
    "Tox.generate_and_save_predictions(plate_path,\n",
    "                                  batch_size,\n",
    "                                  model_path_seg,\n",
    "                                  model_path_bools,\n",
    "                                  masks_names.keys(),\n",
    "                                  pheno_names,\n",
    "                                  device,\n",
    "                                  path_dataframe)"
   ]
  },
  {
   "cell_type": "markdown",
   "metadata": {
    "id": "3qhNqjxB6DAG"
   },
   "source": [
    "**Step 2 (Print predictions)**: In the previous chunk, the predictions for the whole plate are done as well as the extraction of some interesting data. Finally, we can see the predictions for each well. This code only needs as input a dictionary of names of wells and their parts to print the masks.\n",
    "\n",
    "1. *wells*: Dictionary of wells as keys and parts of the fish to plot the masks as values. Remark that fish parts must be one of ('eye_up_dorsal', 'eye_down_dorsal', 'fishoutline_dorsal', 'fishoutline_lateral', 'heart_lateral', 'yolk_lateral', 'ov_lateral')."
   ]
  },
  {
   "cell_type": "code",
   "execution_count": null,
   "metadata": {
    "id": "-n7pWFiM6DAG",
    "outputId": "28ae8f5b-e900-4cd7-9a16-351718cb4d7d"
   },
   "outputs": [
    {
     "name": "stderr",
     "output_type": "stream",
     "text": [
      "100%|██████████| 96/96 [00:00<00:00, 127704.78it/s]\n"
     ]
    },
    {
     "name": "stdout",
     "output_type": "stream",
     "text": [
      "{'bodycurvature': '0.017820214852690697', 'yolkedema': '0.007474451791495085', 'necrosis': '0.0043180836364626884', 'tailbending': '0.011564322747290134', 'notochorddefects': '0.006723660975694656', 'craniofacialedema': '0.0036165048368275166', 'finabsence': 'True', 'scoliosis': '0.15937961637973785', 'snoutjawdefects': '0.012800649739801884', 'otolithsdefects': 'False', 'fishoutline': -1}\n"
     ]
    },
    {
     "data": {
      "image/png": "[encoded data removed]",
      "text/plain": [
       "<Figure size 432x288 with 1 Axes>"
      ]
     },
     "metadata": {
      "needs_background": "light",
      "tags": []
     },
     "output_type": "display_data"
    },
    {
     "data": {
      "image/png": "[encoded data removed]",
      "text/plain": [
       "<Figure size 432x288 with 1 Axes>"
      ]
     },
     "metadata": {
      "needs_background": "light",
      "tags": []
     },
     "output_type": "display_data"
    }
   ],
   "source": [
    "############ INPUT ############\n",
    "\n",
    "wells = {'Well_A01': ['fishoutline_dorsal', 'eye_down_dorsal', 'eye_up_dorsal', 'yolk_lateral']}\n",
    "\n",
    "\n",
    "\n",
    "############ CODE ############\n",
    "\n",
    "# Let's retrieve dictionaries with the predictions of the model\n",
    "dic_images, dic_feno = Tox.dict_from_xml(plate_path)\n",
    "\n",
    "\n",
    "dorsal_masks = ['eye_up_dorsal', 'eye_down_dorsal', 'fishoutline_dorsal']\n",
    "lateral_masks = ['fishoutline_lateral', 'heart_lateral', 'yolk_lateral', 'ov_lateral']\n",
    "cmaps = {'fishoutline_lateral':'Purples' , \n",
    "         'heart_lateral': 'Reds', \n",
    "         'yolk_lateral': 'Greens', \n",
    "         'ov_lateral': 'Blues', \n",
    "         'eye_up_dorsal':'Oranges', \n",
    "         'eye_down_dorsal':'Oranges', \n",
    "         'fishoutline_dorsal':'Purples'}\n",
    "\n",
    "for well, parts in wells.items():\n",
    "    # DORSAL IMAGE TO FIGURE 1\n",
    "    pred_path = os.path.join(plate_path, well, dic_images[well][0])\n",
    "    im = cv2.imread(pred_path)  # Read image ()\n",
    "    plt.figure(1)\n",
    "    plt.imshow(im)\n",
    "    \n",
    "    # LATERAL IMAGE TO FIGURE 2\n",
    "    pred_path = os.path.join(plate_path, well, dic_images[well][1])\n",
    "    im = cv2.imread(pred_path)  # Read image ()\n",
    "    plt.figure(2)\n",
    "    plt.imshow(im)\n",
    "    \n",
    "    for part in parts:\n",
    "        if part in dorsal_masks: plt.figure(1)\n",
    "        else: plt.figure(2)\n",
    "        roi_path = os.path.join(plate_path, well, part + '.roi')\n",
    "        roi = Tox.read_roi_file(roi_path)[part]\n",
    "        mask_img = np.zeros(im.shape, np.uint8)\n",
    "        mask_img = Tox.obtain_mask(mask_img, roi)\n",
    "        plt.imshow(mask_img, cmaps[part], alpha = 0.4)\n",
    "    \n",
    "    print(dic_feno[well])"
   ]
  },
  {
   "cell_type": "markdown",
   "metadata": {
    "id": "Ix88Ottdc5f2"
   },
   "source": [
    "# Exploratory analysis\n",
    "\n",
    "Now that we have made all the predictions, we can plot our data in order to see some insights and provide a general view of the results obteined."
   ]
  },
  {
   "cell_type": "markdown",
   "metadata": {
    "id": "XyA3PwuhkKGg"
   },
   "source": [
    "Before plotting our data we must convert the predictions stored in the stats.csv file into a dataframe, which will be what we will use to process the data and graph them. Then we only need to call the functions of the graphics library and the graphics will be saved in the input folder\n",
    "\n",
    "The input parameters that we have to initialize to make the plots are:\n",
    "\n",
    "1.   *dataframe*: The stats.csv converted to a dataframe\n",
    "2.   *path_graphics*: the folder where we want to save the graphics\n",
    "\n"
   ]
  },
  {
   "cell_type": "code",
   "execution_count": 9,
   "metadata": {
    "colab": {
     "base_uri": "https://localhost:8080/",
     "height": 231
    },
    "executionInfo": {
     "elapsed": 277,
     "status": "error",
     "timestamp": 1624286483560,
     "user": {
      "displayName": "Andrea Garcia Valdés",
      "photoUrl": "",
      "userId": "11425704364991342656"
     },
     "user_tz": -120
    },
    "id": "c2HgtARbn6b_",
    "outputId": "14998881-3a68-492e-e09d-0bf065a02e7c"
   },
   "outputs": [
    {
     "ename": "NameError",
     "evalue": "ignored",
     "output_type": "error",
     "traceback": [
      "\u001b[0;31m---------------------------------------------------------------------------\u001b[0m",
      "\u001b[0;31mNameError\u001b[0m                                 Traceback (most recent call last)",
      "\u001b[0;32m<ipython-input-9-f0f4e5459d4d>\u001b[0m in \u001b[0;36m<module>\u001b[0;34m()\u001b[0m\n\u001b[1;32m      2\u001b[0m \u001b[0;34m\u001b[0m\u001b[0m\n\u001b[1;32m      3\u001b[0m \u001b[0;31m#Our stats.csv has been saved in the path_dataframe variable\u001b[0m\u001b[0;34m\u001b[0m\u001b[0;34m\u001b[0m\u001b[0;34m\u001b[0m\u001b[0m\n\u001b[0;32m----> 4\u001b[0;31m \u001b[0mdataframe\u001b[0m \u001b[0;34m=\u001b[0m \u001b[0mpd\u001b[0m\u001b[0;34m.\u001b[0m\u001b[0mread_csv\u001b[0m\u001b[0;34m(\u001b[0m\u001b[0mpath_dataframe\u001b[0m\u001b[0;34m)\u001b[0m\u001b[0;34m\u001b[0m\u001b[0;34m\u001b[0m\u001b[0m\n\u001b[0m\u001b[1;32m      5\u001b[0m \u001b[0mpath_graphics\u001b[0m \u001b[0;34m=\u001b[0m \u001b[0mplate_path\u001b[0m\u001b[0;34m\u001b[0m\u001b[0;34m\u001b[0m\u001b[0m\n\u001b[1;32m      6\u001b[0m \u001b[0;34m\u001b[0m\u001b[0m\n",
      "\u001b[0;31mNameError\u001b[0m: name 'path_dataframe' is not defined"
     ]
    }
   ],
   "source": [
    "############ INPUT ############\n",
    "\n",
    "#Our stats.csv has been saved in the path_dataframe variable\n",
    "dataframe = pd.read_csv(path_dataframe)\n",
    "path_graphics = plate_path \n",
    "\n",
    "\n",
    "############ CODE ###########\n",
    "\n",
    "#We just have to call the functions\n",
    "\n",
    "doseresponse(dataframe, path_graphics)\n",
    "Mca(dataframe, path_graphics)\n",
    "plots(dataframe, path_graphics)\n"
   ]
  }
 ],
 "metadata": {
  "colab": {
   "collapsed_sections": [],
   "name": "Main.ipynb",
   "provenance": []
  },
  "kernelspec": {
   "display_name": "toxeco",
   "language": "python",
   "name": "toxeco"
  },
  "language_info": {
   "codemirror_mode": {
    "name": "ipython",
    "version": 3
   },
   "file_extension": ".py",
   "mimetype": "text/x-python",
   "name": "python",
   "nbconvert_exporter": "python",
   "pygments_lexer": "ipython3",
   "version": "3.8.10"
  }
 },
 "nbformat": 4,
 "nbformat_minor": 1
}
