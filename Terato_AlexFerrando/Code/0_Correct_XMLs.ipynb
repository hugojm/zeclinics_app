{
 "cells": [
  {
   "cell_type": "code",
   "execution_count": 4,
   "metadata": {},
   "outputs": [
    {
     "name": "stdout",
     "output_type": "stream",
     "text": [
      "200 200 200\n"
     ]
    }
   ],
   "source": [
    "import pandas as pd\n",
    "import numpy as np\n",
    "import seaborn as sns\n",
    "import os\n",
    "import xml.etree.ElementTree as et \n",
    "import string\n",
    "print(pd.get_option(\"display.max_rows\"), pd.get_option(\"display.max_columns\"), pd.get_option(\"display.max_colwidth\"))\n",
    "pd.set_option(\"display.max_rows\", 200)\n",
    "pd.set_option(\"display.max_columns\", 200)\n",
    "pd.set_option(\"display.max_colwidth\", 200)\n",
    "\n",
    "cwd = '/Volumes/GoogleDrive/Shared drives/AREA_SCI_2021/ZC_2021_JG_BATTELLE_PART2'\n",
    "cwd = '/Volumes/GoogleDrive/Shared drives/BATTELLE_2021_PART2/ZC_2021_JG_BATTELLE_PART2/'"
   ]
  },
  {
   "cell_type": "code",
   "execution_count": 14,
   "metadata": {},
   "outputs": [
    {
     "name": "stdout",
     "output_type": "stream",
     "text": [
      "20220219_1240_DS_R1.csv\n",
      "20220221_1240_DS_R2.csv\n",
      "20220226_1240_DS_R3.csv\n",
      "20220530_1240_DM_R2.csv\n",
      "20220531_1240_DM_R3.csv\n",
      "20220725_1240_DM_R5.csv\n"
     ]
    }
   ],
   "source": [
    "comp = '1240'\n",
    "for fil in os.listdir(os.path.join(cwd, 'plate_csvs')): \n",
    "    if comp in fil: \n",
    "        print(fil)"
   ]
  },
  {
   "cell_type": "code",
   "execution_count": 15,
   "metadata": {},
   "outputs": [
    {
     "name": "stdout",
     "output_type": "stream",
     "text": [
      "20220219_1240_DS_R1.csv\n",
      "20220221_1240_DS_R2.csv\n",
      "20220226_1240_DS_R3.csv\n",
      "20220530_1240_DM_R2.csv\n",
      "20220531_1240_DM_R3.csv\n",
      "20220725_1240_DM_R5.csv\n"
     ]
    },
    {
     "data": {
      "text/plain": [
       "(96, 49)"
      ]
     },
     "execution_count": 15,
     "metadata": {},
     "output_type": "execute_result"
    }
   ],
   "source": [
    "comp = '1240'\n",
    "for fil in os.listdir(os.path.join(cwd, 'plate_csvs')): \n",
    "    if comp in fil: \n",
    "        print(fil)\n",
    "\n",
    "p = '20220402_1728_DM_R1'\n",
    "\n",
    "dfs = []\n",
    "for fil in os.listdir(os.path.join(cwd, 'plate_csvs')): \n",
    "    if p in fil: \n",
    "        df = pd.read_csv(os.path.join(cwd, 'plate_csvs', p+'.csv'))\n",
    "        dfs.append(df)\n",
    "dfs[0].shape"
   ]
  },
  {
   "cell_type": "markdown",
   "metadata": {},
   "source": [
    "# Concentrations are badly annotated and some other discrepancies"
   ]
  },
  {
   "cell_type": "markdown",
   "metadata": {},
   "source": [
    "#  COMPOUND concentrations mistakes: \n",
    "\n",
    "### update experiment xml, compounds xml - then mark DONE\n",
    "\n",
    "- compound: 1200 -->  **DONE 20220315_1200_DS_R1**\n",
    "- compound: 1656 -->  **DONE 20220321_1656_DS_R4**\n",
    "- compound: 1951 -->  **DONE 20211127_1951_DS_R1**\n",
    "\n",
    "- compound: 1240 ---> **DONE 20220531_1240_DM_R3**\n",
    "- compound: 1770 ---> **DONE 20220411_1770_DM_R2**\n",
    "- compound: 1989 ---> **DONE 20220802_1989_DM_R4**\n",
    "\n"
   ]
  },
  {
   "cell_type": "markdown",
   "metadata": {},
   "source": [
    "# DMSO mistakes\n",
    "\n",
    "DMSO: It's always 0.5 (except for 1046, which is 1)\n",
    "\n",
    "### update experiment xml, compounds xml - then mark DONE\n",
    "\n",
    "- compound 1728 --> 20220405_1728_DM_R3 has uM instead of % in dose DONE\n"
   ]
  },
  {
   "cell_type": "markdown",
   "metadata": {},
   "source": [
    "# DCA mistakes\n",
    "\n",
    "DCA: It's always 11.53 (not 11.54)\n",
    "\n",
    "### update experiment xml, compounds xml - then mark DONE\n",
    "\n",
    "- compound:  -->  1111 **DONE 20220226_1111_DS_R3**\n",
    "- compound:  -->  1171 **DONE 20220115_1171_DS_R6** \n",
    "- compound:  -->  1240 **DONE 20220226_1240_DS_R3** \n",
    "- compound:  -->  1323 **DONE 20220226_1323_DS_R3** \n",
    "- compound:  -->  1409 **DONE 20220307_1409_DS_R3** \n",
    "\n",
    "- compound:  -->  1036 **DONE 20220801_1036_DM_R6**\n",
    "- compound:  -->  1584 **DONE 20220402_1584_DM_R1**\n",
    "- compound:  -->  1694 **DONE 20220329_1694_DM_R3**\n",
    "- compound:  -->  1719 **DONE 20220426_1719_DM_R1, 20220524_1719_DM_R5**\n",
    "- compound:  -->  1975 **DONE 20221002_1975_DM_R4**"
   ]
  },
  {
   "cell_type": "code",
   "execution_count": 42,
   "metadata": {},
   "outputs": [
    {
     "name": "stdout",
     "output_type": "stream",
     "text": [
      "[array(['uM'], dtype=object)] 20220208_1719_DS_R1.csv ['A12' 'B12' 'C12' 'D12' 'E12' 'F12' 'G12' 'H12']\n",
      "[30.0, 11.53, 4.44, 1.71, 0.66, 0.25, 0.1, 0.0] 20220208_1719_DS_R1.csv\n",
      "[array(['uM'], dtype=object)] 20220215_1719_DS_R2.csv ['A12' 'B12' 'C12' 'D12' 'E12' 'F12' 'G12' 'H12']\n",
      "[30.0, 11.53, 4.44, 1.71, 0.66, 0.25, 0.1, 0.0] 20220215_1719_DS_R2.csv\n",
      "[array(['uM'], dtype=object)] 20220222_1719_DS_R3.csv ['A12' 'B12' 'C12' 'D12' 'E12' 'F12' 'G12' 'H12']\n",
      "[30.0, 11.53, 4.44, 1.71, 0.66, 0.25, 0.1, 0.0] 20220222_1719_DS_R3.csv\n",
      "[array(['uM'], dtype=object)] 20220426_1719_DM_R1.csv ['A12' 'B12' 'C12' 'D12' 'E12' 'F12' 'G12' 'H12']\n",
      "[30.0, 11.53, 4.44, 1.71, 0.66, 0.25, 0.1, 0.0] 20220426_1719_DM_R1.csv\n",
      "[array(['uM', '%'], dtype=object)] 20220524_1719_DM_R5.csv ['A12' 'B12' 'C12' 'D12' 'E12' 'F12' 'G12' 'H12']\n",
      "[30.0, 11.53, 4.44, 1.71, 0.66, 0.25, 0.1, 0.0] 20220524_1719_DM_R5.csv\n",
      "[array(['uM'], dtype=object)] 20220806_1719_DM_R6.csv ['A12' 'B12' 'C12' 'D12' 'E12' 'F12' 'G12' 'H12']\n",
      "[30.0, 11.53, 4.44, 1.71, 0.66, 0.25, 0.1, 0.0] 20220806_1719_DM_R6.csv\n"
     ]
    }
   ],
   "source": [
    "## modify compounds xml and experiment xml\n",
    "csv_path = os.path.join(cwd, 'plate_csvs')\n",
    "compound = '1719'\n",
    "fils = []\n",
    "\n",
    "for fil in os.listdir(csv_path): \n",
    "    df = None\n",
    "    if compound in fil: \n",
    "        df = pd.read_csv(os.path.join(csv_path, fil))\n",
    "        \n",
    "        # # correct compound\n",
    "        # df = df[df['compound']==compound].copy()\n",
    "        # w = df['well_name'].unique()\n",
    "\n",
    "        # # or DMSO\n",
    "        # df = df[df['compound']=='DMSO'].copy()\n",
    "        # w = df['well_name'].unique()\n",
    "        \n",
    "        # or DCA\n",
    "        df = df[df['compound']=='DCA'].copy()\n",
    "        w = df['well_name'].unique()\n",
    "        \n",
    "        print([df.unit.unique()], fil, w)\n",
    "        # print(df.dose.unique(), fil)\n",
    "        my_list = df.dose.unique()\n",
    "        my_list = [float(item) for item in my_list]\n",
    "        print(my_list, fil)\n",
    "        g = df.groupby(['dose', 'compound'])['well_name'].size()\n",
    "        "
   ]
  },
  {
   "cell_type": "code",
   "execution_count": 40,
   "metadata": {},
   "outputs": [
    {
     "name": "stdout",
     "output_type": "stream",
     "text": [
      "/Volumes/GoogleDrive/Shared drives/BATTELLE_2021_PART2/ZC_2021_JG_BATTELLE_PART2/VAST_images/20221002_1975_DM_R4/20221002_1975_DM_R4.xml\n",
      "/Volumes/GoogleDrive/Shared drives/BATTELLE_2021_PART2/ZC_2021_JG_BATTELLE_PART2/VAST_images/20221002_1975_DM_R4/20221002_1975_DM_R4_compounds.xml\n",
      "change 30 to 30.0 A12\n",
      "change 11.54 to 11.53 B12\n",
      "change 4.44 to 4.44 C12\n",
      "change 1.71 to 1.71 D12\n",
      "change 0.66 to 0.66 E12\n",
      "change 0.25 to 0.25 F12\n",
      "change 0.10 to 0.1 G12\n",
      "change 0.0 to 0.0 H12\n",
      "change 30 to 30.0 A12\n",
      "change 11.54 to 11.53 B12\n",
      "change 4.44 to 4.44 C12\n",
      "change 1.71 to 1.71 D12\n",
      "change 0.66 to 0.66 E12\n",
      "change 0.25 to 0.25 F12\n",
      "change 0.10 to 0.1 G12\n",
      "change 0.0 to 0.0 H12\n"
     ]
    }
   ],
   "source": [
    "# dictionary to correct the incorrect xml \n",
    "old = [30.0, 11.54, 4.44, 1.71, 0.66, 0.25, 0.1, 0.0]\n",
    "new = [30.0, 11.53, 4.44, 1.71, 0.66, 0.25, 0.1, 0.0]\n",
    "\n",
    "old_new_dict = dict(zip(old, new))\n",
    "\n",
    "f2replace = '20221002_1975_DM_R4'+'.csv'\n",
    "\n",
    "compound = f2replace.split('_')[1]\n",
    "plate_name = f2replace.split('.csv')[0]\n",
    "\n",
    "experiment_xml = plate_name+'.xml'\n",
    "compounds_xml = plate_name+'_compounds.xml'\n",
    "\n",
    "experiment_xml_path = os.path.join(cwd, 'VAST_images', plate_name, experiment_xml)\n",
    "compounds_xml_path = os.path.join(cwd, 'VAST_images', plate_name, compounds_xml)\n",
    "\n",
    "def replace_compound_concentration(xml_path, compound, old_new_dict): \n",
    "    xtree = et.parse(xml_path)\n",
    "    xroot = xtree.getroot() \n",
    "    wells = []\n",
    "    well_cpd_dose = {}\n",
    "    for node in xroot: \n",
    "        well_name = node.attrib.get(\"name\")\n",
    "        wells.append(well_name)    \n",
    "    for well in wells: \n",
    "        thiswell = xroot.find(\".//*[@name='\"+well+\"']\")\n",
    "        if thiswell.get('compound') == 'DCA': # == compound or 'DMSO' or 'DCA' ########## <------ CHANGE HERE\n",
    "            old_dose = thiswell.get('dose')\n",
    "            if float(old_dose) in old_new_dict.keys(): \n",
    "                new_dose_string = str(old_new_dict[float(old_dose)])\n",
    "                print('change', old_dose, 'to', new_dose_string, well)\n",
    "                thiswell.set('dose', new_dose_string)\n",
    "    # save \n",
    "    xtree = et.ElementTree(xroot)\n",
    "    xtree.write(xml_path, encoding='utf-8', xml_declaration=True)\n",
    "\n",
    "# replace both compounds and experiment xml\n",
    "print(experiment_xml_path)\n",
    "print(compounds_xml_path)\n",
    "replace_compound_concentration(experiment_xml_path, compound, old_new_dict)  \n",
    "replace_compound_concentration(compounds_xml_path, compound, old_new_dict)  "
   ]
  }
 ],
 "metadata": {
  "interpreter": {
   "hash": "ee445c29dedd4a71891f2f1d193108c19b2304a51a0cdac7aa1b226577bad998"
  },
  "kernelspec": {
   "display_name": "Python 3.8.10 ('toxeco')",
   "language": "python",
   "name": "python3"
  },
  "language_info": {
   "codemirror_mode": {
    "name": "ipython",
    "version": 3
   },
   "file_extension": ".py",
   "mimetype": "text/x-python",
   "name": "python",
   "nbconvert_exporter": "python",
   "pygments_lexer": "ipython3",
   "version": "3.8.10"
  },
  "orig_nbformat": 4
 },
 "nbformat": 4,
 "nbformat_minor": 2
}
